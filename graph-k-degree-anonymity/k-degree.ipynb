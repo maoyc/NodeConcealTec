{
 "cells": [
  {
   "cell_type": "markdown",
   "metadata": {},
   "source": [
    "# Sample usage"
   ]
  },
  {
   "cell_type": "code",
   "execution_count": null,
   "metadata": {},
   "outputs": [],
   "source": [
    "import networkx as nx\n",
    "import numpy as np\n",
    "import random as rn\n",
    "import matplotlib.pyplot as plt\n",
    "import kdegree as kd"
   ]
  },
  {
   "cell_type": "code",
   "execution_count": null,
   "metadata": {
    "scrolled": false
   },
   "outputs": [],
   "source": [
    "import time\n",
    "#G = nx.read_edgelist('test graphs/PT.txt',nodetype=int)\n",
    "#G = nx.relabel_nodes(G, lambda x: x-1)\n",
    "#G = nx.barabasi_albert_graph(1000,3)\n",
    "G = nx.erdos_renyi_graph(1000,0.02)\n",
    "#G = nx.watts_strogatz_graph(1000,10,0.1)\n",
    "#G = nx.read_gpickle('test graphs/ws_test_1.gpkl')\n",
    "\n",
    "print(nx.number_of_nodes(G),nx.number_of_edges(G),nx.density(G))\n",
    "\n",
    "noise=10\n",
    "k=4\n",
    "start = time.time()\n",
    "Ga = kd.graph_anonymiser(G,k=k,noise=noise,with_deletions=True)\n",
    "print(\"Total execution time =\",time.time()-start)\n",
    "\n",
    "H = nx.intersection(G,Ga)\n",
    "\n",
    "num_edges_in_G = len(set(G.edges()))\n",
    "num_edges_in_both = len(set(H.edges()))\n",
    "\n",
    "print(\"Edges overlap = \" + str(100*num_edges_in_both/num_edges_in_G)+\"%\")\n",
    "print(\"Num edges original graph = \" + str(nx.number_of_edges(G)))\n",
    "print(\"Num edges anonymised graph = \" + str(nx.number_of_edges(Ga)))"
   ]
  },
  {
   "cell_type": "code",
   "execution_count": null,
   "metadata": {},
   "outputs": [],
   "source": []
  }
 ],
 "metadata": {
  "kernelspec": {
   "display_name": "Python 3",
   "language": "python",
   "name": "python3"
  },
  "language_info": {
   "codemirror_mode": {
    "name": "ipython",
    "version": 3
   },
   "file_extension": ".py",
   "mimetype": "text/x-python",
   "name": "python",
   "nbconvert_exporter": "python",
   "pygments_lexer": "ipython3",
   "version": "3.7.2"
  }
 },
 "nbformat": 4,
 "nbformat_minor": 2
}
